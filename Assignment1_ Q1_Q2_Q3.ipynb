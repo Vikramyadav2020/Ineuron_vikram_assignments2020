{
 "cells": [
  {
   "cell_type": "code",
   "execution_count": null,
   "metadata": {},
   "outputs": [],
   "source": [
    "## Programe 1\n",
    "\n",
    "## Write a program which will find all such numbers which are divisible by 7 but are not a multiple of 5, between \n",
    "## 2000 and 3200 (both included). The numbers obtained should be printed in a comma-separated sequence on a single line.\n",
    "\n",
    "Num=[x for x in range (2000, 3201) if x%7 == 0 if x%5 != 0]\n",
    "print(Num)\n",
    "    "
   ]
  },
  {
   "cell_type": "code",
   "execution_count": null,
   "metadata": {},
   "outputs": [],
   "source": [
    "## Programe 2\n",
    "\n",
    "## Write a Python program to accept the user's first and last name and then getting them printed in the the reverse order \n",
    "## with a space between first name and last name.\n",
    "\n",
    "FirstName = input(\"Enter your First Name :: \")\n",
    "LastName =  input(\"Enter your last Name :: \")\n",
    "print(LastName + \" \" + FirstName)"
   ]
  },
  {
   "cell_type": "code",
   "execution_count": null,
   "metadata": {},
   "outputs": [],
   "source": [
    "## Programe 3\n",
    "\n",
    "## Write a Python program to find the volume of a sphere with diameter 12 cm.Formula: V=4/3 * π * r 3\n",
    "\n",
    "## It is mentioned that the diameter is 12 , which means that the radius is half  of the diameter which equals to 6\n",
    "## Radius would be 6 in this case\n",
    "\n",
    "diameter = 12\n",
    "radius = diameter / 2  ## which is 6 in this case\n",
    "pi = 3.1415926535897931\n",
    "r= radius\n",
    "V = 4/3 * pi * r**3\n",
    "print('volume of the sphere is: ',V)\n"
   ]
  },
  {
   "cell_type": "code",
   "execution_count": null,
   "metadata": {},
   "outputs": [],
   "source": []
  }
 ],
 "metadata": {
  "kernelspec": {
   "display_name": "Python 3",
   "language": "python",
   "name": "python3"
  },
  "language_info": {
   "codemirror_mode": {
    "name": "ipython",
    "version": 3
   },
   "file_extension": ".py",
   "mimetype": "text/x-python",
   "name": "python",
   "nbconvert_exporter": "python",
   "pygments_lexer": "ipython3",
   "version": "3.8.5"
  }
 },
 "nbformat": 4,
 "nbformat_minor": 4
}
