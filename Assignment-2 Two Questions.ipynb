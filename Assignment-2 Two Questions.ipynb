{
 "cells": [
  {
   "cell_type": "code",
   "execution_count": null,
   "metadata": {},
   "outputs": [],
   "source": [
    "## Question No -  1\n",
    "\n",
    "## Create the below pattern using nested for loop in Python.\n",
    "##  * \n",
    "##  * * \n",
    "##  * * * \n",
    "##  * * * * \n",
    "##  * * * * * \n",
    "##  * * * * \n",
    "##  * * * \n",
    "##  * * \n",
    "##  * \n",
    "\n",
    "\n",
    "num = int(input(\"enter the number of rows :\"))\n",
    "for i in range (0,num):\n",
    "    for j in range (0, i+1):\n",
    "        print(\"*\",end=\" \")\n",
    "    print()\n",
    "for c in range (num):\n",
    "        print(\"* \"*((num-1)-c))\n",
    "print()"
   ]
  },
  {
   "cell_type": "code",
   "execution_count": null,
   "metadata": {},
   "outputs": [],
   "source": [
    "## Question No -  2\n",
    "\n",
    "## Write a Python program to reverse a word after accepting the input from the user.\n",
    "## Sample Output:\n",
    "## Input word: ineuron\n",
    "## Output: norueni\n",
    "\n",
    "reversename = input(\"Enter the word to get reverse  ::\")\n",
    "for x in range (len(reversename) -1, -1, -1):\n",
    "    print(reversename[x], end=\"\")\n",
    "print(\"\\n\") \n",
    "#print()\n"
   ]
  }
 ],
 "metadata": {
  "kernelspec": {
   "display_name": "Python 3",
   "language": "python",
   "name": "python3"
  },
  "language_info": {
   "codemirror_mode": {
    "name": "ipython",
    "version": 3
   },
   "file_extension": ".py",
   "mimetype": "text/x-python",
   "name": "python",
   "nbconvert_exporter": "python",
   "pygments_lexer": "ipython3",
   "version": "3.8.5"
  }
 },
 "nbformat": 4,
 "nbformat_minor": 4
}
